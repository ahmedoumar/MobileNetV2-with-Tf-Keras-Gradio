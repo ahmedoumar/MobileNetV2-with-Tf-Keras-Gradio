{
 "cells": [
  {
   "cell_type": "code",
   "execution_count": 1,
   "id": "57993166",
   "metadata": {
    "scrolled": true
   },
   "outputs": [
    {
     "name": "stdout",
     "output_type": "stream",
     "text": [
      "2.4.1\n"
     ]
    }
   ],
   "source": [
    "#import our packages:\n",
    "import tensorflow as tf\n",
    "import gradio as gr\n",
    "import numpy as np\n",
    "import json\n",
    "from os.path import dirname, realpath, join\n",
    "#checking our tensorflow version:\n",
    "print(tf.__version__)\n"
   ]
  },
  {
   "cell_type": "code",
   "execution_count": 2,
   "id": "603ce960",
   "metadata": {},
   "outputs": [
    {
     "name": "stdout",
     "output_type": "stream",
     "text": [
      "0\n"
     ]
    }
   ],
   "source": [
    "import os\n",
    "os.environ['TF_XLA_FLAGS'] = '--tf_xla_enable_xla_devices'\n",
    "\n",
    "\n",
    "print(len(tf.config.experimental.list_physical_devices('GPU')))"
   ]
  },
  {
   "cell_type": "code",
   "execution_count": 6,
   "id": "a2e7b65b",
   "metadata": {
    "scrolled": false
   },
   "outputs": [],
   "source": [
    "dict1 = {}\n",
    "  \n",
    "# creating dictionary\n",
    "with open('labels.txt') as fh:\n",
    "  \n",
    "    for line, i in zip(fh, range(1000)):\n",
    "  \n",
    "        # reads each line and trims of extra the spaces \n",
    "        # and gives only the valid words\n",
    "        command, description = line.strip().split(None, 1)\n",
    "        #print(command)\n",
    "        #print(description)\n",
    "        dict1[i] = description\n",
    "          \n",
    "# creating json file\n",
    "# the JSON file is named as test1\n",
    "out_file = open(\"labels.json\", \"w\")\n",
    "json.dump(dict1, out_file, indent = 4, sort_keys = False)\n",
    "out_file.close()"
   ]
  },
  {
   "cell_type": "code",
   "execution_count": 7,
   "id": "9e84eecf",
   "metadata": {},
   "outputs": [
    {
     "data": {
      "text/plain": [
       "\"'ostrich, Struthio camelus',\""
      ]
     },
     "execution_count": 7,
     "metadata": {},
     "output_type": "execute_result"
    }
   ],
   "source": [
    "dict1[9]"
   ]
  },
  {
   "cell_type": "code",
   "execution_count": 8,
   "id": "f32b21dc",
   "metadata": {},
   "outputs": [],
   "source": [
    "with open(join('./', \"labels.json\")) as labels_file:\n",
    "    labels = json.load(labels_file)"
   ]
  },
  {
   "cell_type": "code",
   "execution_count": 9,
   "id": "c6b0249f",
   "metadata": {},
   "outputs": [
    {
     "data": {
      "text/plain": [
       "\"'tench, Tinca tinca',\""
      ]
     },
     "execution_count": 9,
     "metadata": {},
     "output_type": "execute_result"
    }
   ],
   "source": [
    "labels= {int(key):val for key, val in labels.items()}\n",
    "labels[0]"
   ]
  },
  {
   "cell_type": "code",
   "execution_count": 10,
   "id": "edcf322d",
   "metadata": {},
   "outputs": [
    {
     "name": "stderr",
     "output_type": "stream",
     "text": [
      "2021-09-27 12:37:12.075880: I tensorflow/core/platform/cpu_feature_guard.cc:142] This TensorFlow binary is optimized with oneAPI Deep Neural Network Library (oneDNN) to use the following CPU instructions in performance-critical operations:  AVX2 FMA\n",
      "To enable them in other operations, rebuild TensorFlow with the appropriate compiler flags.\n"
     ]
    }
   ],
   "source": [
    "mobile_net = tf.keras.applications.MobileNetV2()\n",
    "\n",
    "def image_classifier(img):\n",
    "    arr = np.expand_dims(img, axis=0)\n",
    "    arr = tf.keras.applications.mobilenet.preprocess_input(arr)\n",
    "    predictions = mobile_net.predict(arr).flatten()\n",
    "    \n",
    "    return {labels[i]: float(predictions[i]) for i in range(1000)}"
   ]
  },
  {
   "cell_type": "code",
   "execution_count": 11,
   "id": "70945efb",
   "metadata": {},
   "outputs": [],
   "source": [
    "iface = gr.Interface(\n",
    "    image_classifier,\n",
    "    gr.inputs.Image(shape=(224, 224)),\n",
    "    gr.outputs.Label(num_top_classes=3),\n",
    "    capture_session=True,\n",
    "    interpretation='default',\n",
    "    live=True\n",
    ")"
   ]
  },
  {
   "cell_type": "code",
   "execution_count": 12,
   "id": "1ad72817",
   "metadata": {
    "scrolled": false
   },
   "outputs": [
    {
     "name": "stdout",
     "output_type": "stream",
     "text": [
      "Running locally at: http://127.0.0.1:7879/\n",
      "To create a public link, set `share=True` in `launch()`.\n",
      "Interface loading below...\n"
     ]
    },
    {
     "data": {
      "text/html": [
       "\n",
       "        <iframe\n",
       "            width=\"900\"\n",
       "            height=\"500\"\n",
       "            src=\"http://127.0.0.1:7879/\"\n",
       "            frameborder=\"0\"\n",
       "            allowfullscreen\n",
       "        ></iframe>\n",
       "        "
      ],
      "text/plain": [
       "<IPython.lib.display.IFrame at 0x7f4b48111340>"
      ]
     },
     "metadata": {},
     "output_type": "display_data"
    },
    {
     "data": {
      "text/plain": [
       "(<Flask 'gradio.networking'>, 'http://127.0.0.1:7879/', None)"
      ]
     },
     "execution_count": 12,
     "metadata": {},
     "output_type": "execute_result"
    },
    {
     "name": "stderr",
     "output_type": "stream",
     "text": [
      "2021-09-27 12:37:27.909527: I tensorflow/compiler/mlir/mlir_graph_optimization_pass.cc:185] None of the MLIR Optimization Passes are enabled (registered 2)\n"
     ]
    }
   ],
   "source": [
    "iface.launch()"
   ]
  },
  {
   "cell_type": "code",
   "execution_count": null,
   "id": "b7f18d25",
   "metadata": {},
   "outputs": [],
   "source": []
  }
 ],
 "metadata": {
  "kernelspec": {
   "display_name": "Python 3 (ipykernel)",
   "language": "python",
   "name": "python3"
  },
  "language_info": {
   "codemirror_mode": {
    "name": "ipython",
    "version": 3
   },
   "file_extension": ".py",
   "mimetype": "text/x-python",
   "name": "python",
   "nbconvert_exporter": "python",
   "pygments_lexer": "ipython3",
   "version": "3.8.11"
  }
 },
 "nbformat": 4,
 "nbformat_minor": 5
}
